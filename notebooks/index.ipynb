{
 "cells": [
  {
   "cell_type": "code",
   "execution_count": 1,
   "metadata": {
    "scrolled": true
   },
   "outputs": [],
   "source": [
    "#hide\n",
    "from sample_project import *"
   ]
  },
  {
   "cell_type": "markdown",
   "metadata": {},
   "source": [
    "# Sample project : Churn Detection\n",
    "\n",
    "> This project is created imaginarily to show my sample code for job application. The goal of the sample project is detection of customers who are going to become churner. The definition of churning is determined according to activeness of accounts belong to customers"
   ]
  },
  {
   "cell_type": "markdown",
   "metadata": {},
   "source": [
    "## Install"
   ]
  },
  {
   "cell_type": "markdown",
   "metadata": {},
   "source": [
    "In order to use this project, first clone this repository (https://github.com/busracikla/sample_project) and pip install it with the command below:"
   ]
  },
  {
   "cell_type": "markdown",
   "metadata": {},
   "source": [
    "`pip install -e .`"
   ]
  },
  {
   "cell_type": "markdown",
   "metadata": {},
   "source": [
    "## Importing modules"
   ]
  },
  {
   "cell_type": "code",
   "execution_count": 2,
   "metadata": {},
   "outputs": [],
   "source": [
    "from sample_project import config\n",
    "from sample_project.helper import write_to_csv, read_from_csv\n",
    "from sample_project.preprocess import prepare_transaction_data, label_data, extract_features\n",
    "from sample_project.model import train_test_split, classifier"
   ]
  },
  {
   "cell_type": "code",
   "execution_count": 4,
   "metadata": {},
   "outputs": [],
   "source": [
    "from sklearn.ensemble import RandomForestClassifier\n",
    "import pandas as pd\n",
    "import numpy as np\n",
    "import os\n",
    "import warnings\n",
    "warnings.filterwarnings(\"ignore\")"
   ]
  },
  {
   "cell_type": "markdown",
   "metadata": {},
   "source": [
    "## Preprocessing"
   ]
  },
  {
   "cell_type": "markdown",
   "metadata": {},
   "source": [
    "### Preparing transaction dataset for customers in the scope "
   ]
  },
  {
   "cell_type": "code",
   "execution_count": 9,
   "metadata": {},
   "outputs": [],
   "source": [
    "if not os.path.exists(config.CSV_CUSTOMIZED_TRNX):\n",
    "    \n",
    "    tranx= prepare_transaction_data.Transactional_Data()\n",
    "    trnx_scope = tranx.create_data(apply_filters=True,to_csv=False)\n",
    "    \n",
    "else:\n",
    "    trnx_scope = read_from_csv(config.CSV_CUSTOMIZED_TRNX)\n",
    "    "
   ]
  },
  {
   "cell_type": "code",
   "execution_count": 10,
   "metadata": {},
   "outputs": [
    {
     "data": {
      "text/html": [
       "<div>\n",
       "<style scoped>\n",
       "    .dataframe tbody tr th:only-of-type {\n",
       "        vertical-align: middle;\n",
       "    }\n",
       "\n",
       "    .dataframe tbody tr th {\n",
       "        vertical-align: top;\n",
       "    }\n",
       "\n",
       "    .dataframe thead th {\n",
       "        text-align: right;\n",
       "    }\n",
       "</style>\n",
       "<table border=\"1\" class=\"dataframe\">\n",
       "  <thead>\n",
       "    <tr style=\"text-align: right;\">\n",
       "      <th></th>\n",
       "      <th>trans_id</th>\n",
       "      <th>account_id</th>\n",
       "      <th>date</th>\n",
       "      <th>type</th>\n",
       "      <th>operation</th>\n",
       "      <th>amount</th>\n",
       "      <th>balance</th>\n",
       "      <th>client_id</th>\n",
       "      <th>district_id</th>\n",
       "      <th>Total_Loan_Amount</th>\n",
       "    </tr>\n",
       "  </thead>\n",
       "  <tbody>\n",
       "    <tr>\n",
       "      <td>81</td>\n",
       "      <td>1548749</td>\n",
       "      <td>5270</td>\n",
       "      <td>930113</td>\n",
       "      <td>\"PRIJEM\"</td>\n",
       "      <td>\"VKLAD\"</td>\n",
       "      <td>800.0</td>\n",
       "      <td>800.0</td>\n",
       "      <td>6367</td>\n",
       "      <td>44</td>\n",
       "      <td>79608.0</td>\n",
       "    </tr>\n",
       "    <tr>\n",
       "      <td>91</td>\n",
       "      <td>1548750</td>\n",
       "      <td>5270</td>\n",
       "      <td>930114</td>\n",
       "      <td>\"PRIJEM\"</td>\n",
       "      <td>\"PREVOD Z UCTU\"</td>\n",
       "      <td>44749.0</td>\n",
       "      <td>45549.0</td>\n",
       "      <td>6367</td>\n",
       "      <td>44</td>\n",
       "      <td>79608.0</td>\n",
       "    </tr>\n",
       "    <tr>\n",
       "      <td>94</td>\n",
       "      <td>3393738</td>\n",
       "      <td>11265</td>\n",
       "      <td>930114</td>\n",
       "      <td>\"PRIJEM\"</td>\n",
       "      <td>\"VKLAD\"</td>\n",
       "      <td>1000.0</td>\n",
       "      <td>1000.0</td>\n",
       "      <td>13845</td>\n",
       "      <td>15</td>\n",
       "      <td>52788.0</td>\n",
       "    </tr>\n",
       "    <tr>\n",
       "      <td>100</td>\n",
       "      <td>3122924</td>\n",
       "      <td>10364</td>\n",
       "      <td>930117</td>\n",
       "      <td>\"PRIJEM\"</td>\n",
       "      <td>\"VKLAD\"</td>\n",
       "      <td>1100.0</td>\n",
       "      <td>1100.0</td>\n",
       "      <td>12754</td>\n",
       "      <td>55</td>\n",
       "      <td>21924.0</td>\n",
       "    </tr>\n",
       "    <tr>\n",
       "      <td>101</td>\n",
       "      <td>3122924</td>\n",
       "      <td>10364</td>\n",
       "      <td>930117</td>\n",
       "      <td>\"PRIJEM\"</td>\n",
       "      <td>\"VKLAD\"</td>\n",
       "      <td>1100.0</td>\n",
       "      <td>1100.0</td>\n",
       "      <td>12755</td>\n",
       "      <td>55</td>\n",
       "      <td>21924.0</td>\n",
       "    </tr>\n",
       "    <tr>\n",
       "      <td>...</td>\n",
       "      <td>...</td>\n",
       "      <td>...</td>\n",
       "      <td>...</td>\n",
       "      <td>...</td>\n",
       "      <td>...</td>\n",
       "      <td>...</td>\n",
       "      <td>...</td>\n",
       "      <td>...</td>\n",
       "      <td>...</td>\n",
       "      <td>...</td>\n",
       "    </tr>\n",
       "    <tr>\n",
       "      <td>539017</td>\n",
       "      <td>2548927</td>\n",
       "      <td>8411</td>\n",
       "      <td>961231</td>\n",
       "      <td>\"VYDAJ\"</td>\n",
       "      <td>\"VYBER\"</td>\n",
       "      <td>14.6</td>\n",
       "      <td>20259.5</td>\n",
       "      <td>10389</td>\n",
       "      <td>20</td>\n",
       "      <td>220620.0</td>\n",
       "    </tr>\n",
       "    <tr>\n",
       "      <td>539018</td>\n",
       "      <td>2592488</td>\n",
       "      <td>8564</td>\n",
       "      <td>961231</td>\n",
       "      <td>\"VYDAJ\"</td>\n",
       "      <td>\"VYBER\"</td>\n",
       "      <td>14.6</td>\n",
       "      <td>44131.0</td>\n",
       "      <td>10563</td>\n",
       "      <td>68</td>\n",
       "      <td>76680.0</td>\n",
       "    </tr>\n",
       "    <tr>\n",
       "      <td>539019</td>\n",
       "      <td>2592488</td>\n",
       "      <td>8564</td>\n",
       "      <td>961231</td>\n",
       "      <td>\"VYDAJ\"</td>\n",
       "      <td>\"VYBER\"</td>\n",
       "      <td>14.6</td>\n",
       "      <td>44131.0</td>\n",
       "      <td>10564</td>\n",
       "      <td>68</td>\n",
       "      <td>76680.0</td>\n",
       "    </tr>\n",
       "    <tr>\n",
       "      <td>539036</td>\n",
       "      <td>516795</td>\n",
       "      <td>1766</td>\n",
       "      <td>961231</td>\n",
       "      <td>\"VYDAJ\"</td>\n",
       "      <td>\"VYBER\"</td>\n",
       "      <td>14.6</td>\n",
       "      <td>27107.3</td>\n",
       "      <td>2141</td>\n",
       "      <td>28</td>\n",
       "      <td>30060.0</td>\n",
       "    </tr>\n",
       "    <tr>\n",
       "      <td>539041</td>\n",
       "      <td>519055</td>\n",
       "      <td>1772</td>\n",
       "      <td>961231</td>\n",
       "      <td>\"VYDAJ\"</td>\n",
       "      <td>\"VYBER\"</td>\n",
       "      <td>30.0</td>\n",
       "      <td>31766.5</td>\n",
       "      <td>2148</td>\n",
       "      <td>31</td>\n",
       "      <td>202788.0</td>\n",
       "    </tr>\n",
       "  </tbody>\n",
       "</table>\n",
       "<p>94783 rows × 10 columns</p>\n",
       "</div>"
      ],
      "text/plain": [
       "        trans_id  account_id    date      type        operation   amount  \\\n",
       "81       1548749        5270  930113  \"PRIJEM\"          \"VKLAD\"    800.0   \n",
       "91       1548750        5270  930114  \"PRIJEM\"  \"PREVOD Z UCTU\"  44749.0   \n",
       "94       3393738       11265  930114  \"PRIJEM\"          \"VKLAD\"   1000.0   \n",
       "100      3122924       10364  930117  \"PRIJEM\"          \"VKLAD\"   1100.0   \n",
       "101      3122924       10364  930117  \"PRIJEM\"          \"VKLAD\"   1100.0   \n",
       "...          ...         ...     ...       ...              ...      ...   \n",
       "539017   2548927        8411  961231   \"VYDAJ\"          \"VYBER\"     14.6   \n",
       "539018   2592488        8564  961231   \"VYDAJ\"          \"VYBER\"     14.6   \n",
       "539019   2592488        8564  961231   \"VYDAJ\"          \"VYBER\"     14.6   \n",
       "539036    516795        1766  961231   \"VYDAJ\"          \"VYBER\"     14.6   \n",
       "539041    519055        1772  961231   \"VYDAJ\"          \"VYBER\"     30.0   \n",
       "\n",
       "        balance  client_id  district_id  Total_Loan_Amount  \n",
       "81        800.0       6367           44            79608.0  \n",
       "91      45549.0       6367           44            79608.0  \n",
       "94       1000.0      13845           15            52788.0  \n",
       "100      1100.0      12754           55            21924.0  \n",
       "101      1100.0      12755           55            21924.0  \n",
       "...         ...        ...          ...                ...  \n",
       "539017  20259.5      10389           20           220620.0  \n",
       "539018  44131.0      10563           68            76680.0  \n",
       "539019  44131.0      10564           68            76680.0  \n",
       "539036  27107.3       2141           28            30060.0  \n",
       "539041  31766.5       2148           31           202788.0  \n",
       "\n",
       "[94783 rows x 10 columns]"
      ]
     },
     "execution_count": 10,
     "metadata": {},
     "output_type": "execute_result"
    }
   ],
   "source": [
    "trnx_scope"
   ]
  },
  {
   "cell_type": "markdown",
   "metadata": {},
   "source": [
    "### Preparing Label"
   ]
  },
  {
   "cell_type": "code",
   "execution_count": 11,
   "metadata": {},
   "outputs": [
    {
     "data": {
      "text/html": [
       "<div>\n",
       "<style scoped>\n",
       "    .dataframe tbody tr th:only-of-type {\n",
       "        vertical-align: middle;\n",
       "    }\n",
       "\n",
       "    .dataframe tbody tr th {\n",
       "        vertical-align: top;\n",
       "    }\n",
       "\n",
       "    .dataframe thead th {\n",
       "        text-align: right;\n",
       "    }\n",
       "</style>\n",
       "<table border=\"1\" class=\"dataframe\">\n",
       "  <thead>\n",
       "    <tr style=\"text-align: right;\">\n",
       "      <th></th>\n",
       "      <th>trans_id</th>\n",
       "      <th>account_id</th>\n",
       "      <th>date</th>\n",
       "      <th>type</th>\n",
       "      <th>operation</th>\n",
       "      <th>amount</th>\n",
       "      <th>balance</th>\n",
       "      <th>client_id</th>\n",
       "      <th>district_id</th>\n",
       "      <th>Total_Loan_Amount</th>\n",
       "      <th>churn_or_not</th>\n",
       "    </tr>\n",
       "  </thead>\n",
       "  <tbody>\n",
       "    <tr>\n",
       "      <td>0</td>\n",
       "      <td>1548749</td>\n",
       "      <td>5270</td>\n",
       "      <td>930113</td>\n",
       "      <td>\"PRIJEM\"</td>\n",
       "      <td>\"VKLAD\"</td>\n",
       "      <td>800.0</td>\n",
       "      <td>800.0</td>\n",
       "      <td>6367</td>\n",
       "      <td>44</td>\n",
       "      <td>79608.0</td>\n",
       "      <td>0</td>\n",
       "    </tr>\n",
       "    <tr>\n",
       "      <td>1</td>\n",
       "      <td>1548750</td>\n",
       "      <td>5270</td>\n",
       "      <td>930114</td>\n",
       "      <td>\"PRIJEM\"</td>\n",
       "      <td>\"PREVOD Z UCTU\"</td>\n",
       "      <td>44749.0</td>\n",
       "      <td>45549.0</td>\n",
       "      <td>6367</td>\n",
       "      <td>44</td>\n",
       "      <td>79608.0</td>\n",
       "      <td>0</td>\n",
       "    </tr>\n",
       "    <tr>\n",
       "      <td>2</td>\n",
       "      <td>3393738</td>\n",
       "      <td>11265</td>\n",
       "      <td>930114</td>\n",
       "      <td>\"PRIJEM\"</td>\n",
       "      <td>\"VKLAD\"</td>\n",
       "      <td>1000.0</td>\n",
       "      <td>1000.0</td>\n",
       "      <td>13845</td>\n",
       "      <td>15</td>\n",
       "      <td>52788.0</td>\n",
       "      <td>0</td>\n",
       "    </tr>\n",
       "    <tr>\n",
       "      <td>3</td>\n",
       "      <td>3122924</td>\n",
       "      <td>10364</td>\n",
       "      <td>930117</td>\n",
       "      <td>\"PRIJEM\"</td>\n",
       "      <td>\"VKLAD\"</td>\n",
       "      <td>1100.0</td>\n",
       "      <td>1100.0</td>\n",
       "      <td>12754</td>\n",
       "      <td>55</td>\n",
       "      <td>21924.0</td>\n",
       "      <td>0</td>\n",
       "    </tr>\n",
       "    <tr>\n",
       "      <td>4</td>\n",
       "      <td>3122924</td>\n",
       "      <td>10364</td>\n",
       "      <td>930117</td>\n",
       "      <td>\"PRIJEM\"</td>\n",
       "      <td>\"VKLAD\"</td>\n",
       "      <td>1100.0</td>\n",
       "      <td>1100.0</td>\n",
       "      <td>12755</td>\n",
       "      <td>55</td>\n",
       "      <td>21924.0</td>\n",
       "      <td>0</td>\n",
       "    </tr>\n",
       "    <tr>\n",
       "      <td>...</td>\n",
       "      <td>...</td>\n",
       "      <td>...</td>\n",
       "      <td>...</td>\n",
       "      <td>...</td>\n",
       "      <td>...</td>\n",
       "      <td>...</td>\n",
       "      <td>...</td>\n",
       "      <td>...</td>\n",
       "      <td>...</td>\n",
       "      <td>...</td>\n",
       "      <td>...</td>\n",
       "    </tr>\n",
       "    <tr>\n",
       "      <td>94778</td>\n",
       "      <td>2548927</td>\n",
       "      <td>8411</td>\n",
       "      <td>961231</td>\n",
       "      <td>\"VYDAJ\"</td>\n",
       "      <td>\"VYBER\"</td>\n",
       "      <td>14.6</td>\n",
       "      <td>20259.5</td>\n",
       "      <td>10389</td>\n",
       "      <td>20</td>\n",
       "      <td>220620.0</td>\n",
       "      <td>0</td>\n",
       "    </tr>\n",
       "    <tr>\n",
       "      <td>94779</td>\n",
       "      <td>2592488</td>\n",
       "      <td>8564</td>\n",
       "      <td>961231</td>\n",
       "      <td>\"VYDAJ\"</td>\n",
       "      <td>\"VYBER\"</td>\n",
       "      <td>14.6</td>\n",
       "      <td>44131.0</td>\n",
       "      <td>10563</td>\n",
       "      <td>68</td>\n",
       "      <td>76680.0</td>\n",
       "      <td>0</td>\n",
       "    </tr>\n",
       "    <tr>\n",
       "      <td>94780</td>\n",
       "      <td>2592488</td>\n",
       "      <td>8564</td>\n",
       "      <td>961231</td>\n",
       "      <td>\"VYDAJ\"</td>\n",
       "      <td>\"VYBER\"</td>\n",
       "      <td>14.6</td>\n",
       "      <td>44131.0</td>\n",
       "      <td>10564</td>\n",
       "      <td>68</td>\n",
       "      <td>76680.0</td>\n",
       "      <td>0</td>\n",
       "    </tr>\n",
       "    <tr>\n",
       "      <td>94781</td>\n",
       "      <td>516795</td>\n",
       "      <td>1766</td>\n",
       "      <td>961231</td>\n",
       "      <td>\"VYDAJ\"</td>\n",
       "      <td>\"VYBER\"</td>\n",
       "      <td>14.6</td>\n",
       "      <td>27107.3</td>\n",
       "      <td>2141</td>\n",
       "      <td>28</td>\n",
       "      <td>30060.0</td>\n",
       "      <td>0</td>\n",
       "    </tr>\n",
       "    <tr>\n",
       "      <td>94782</td>\n",
       "      <td>519055</td>\n",
       "      <td>1772</td>\n",
       "      <td>961231</td>\n",
       "      <td>\"VYDAJ\"</td>\n",
       "      <td>\"VYBER\"</td>\n",
       "      <td>30.0</td>\n",
       "      <td>31766.5</td>\n",
       "      <td>2148</td>\n",
       "      <td>31</td>\n",
       "      <td>202788.0</td>\n",
       "      <td>1</td>\n",
       "    </tr>\n",
       "  </tbody>\n",
       "</table>\n",
       "<p>94783 rows × 11 columns</p>\n",
       "</div>"
      ],
      "text/plain": [
       "       trans_id  account_id    date      type        operation   amount  \\\n",
       "0       1548749        5270  930113  \"PRIJEM\"          \"VKLAD\"    800.0   \n",
       "1       1548750        5270  930114  \"PRIJEM\"  \"PREVOD Z UCTU\"  44749.0   \n",
       "2       3393738       11265  930114  \"PRIJEM\"          \"VKLAD\"   1000.0   \n",
       "3       3122924       10364  930117  \"PRIJEM\"          \"VKLAD\"   1100.0   \n",
       "4       3122924       10364  930117  \"PRIJEM\"          \"VKLAD\"   1100.0   \n",
       "...         ...         ...     ...       ...              ...      ...   \n",
       "94778   2548927        8411  961231   \"VYDAJ\"          \"VYBER\"     14.6   \n",
       "94779   2592488        8564  961231   \"VYDAJ\"          \"VYBER\"     14.6   \n",
       "94780   2592488        8564  961231   \"VYDAJ\"          \"VYBER\"     14.6   \n",
       "94781    516795        1766  961231   \"VYDAJ\"          \"VYBER\"     14.6   \n",
       "94782    519055        1772  961231   \"VYDAJ\"          \"VYBER\"     30.0   \n",
       "\n",
       "       balance  client_id  district_id  Total_Loan_Amount  churn_or_not  \n",
       "0        800.0       6367           44            79608.0             0  \n",
       "1      45549.0       6367           44            79608.0             0  \n",
       "2       1000.0      13845           15            52788.0             0  \n",
       "3       1100.0      12754           55            21924.0             0  \n",
       "4       1100.0      12755           55            21924.0             0  \n",
       "...        ...        ...          ...                ...           ...  \n",
       "94778  20259.5      10389           20           220620.0             0  \n",
       "94779  44131.0      10563           68            76680.0             0  \n",
       "94780  44131.0      10564           68            76680.0             0  \n",
       "94781  27107.3       2141           28            30060.0             0  \n",
       "94782  31766.5       2148           31           202788.0             1  \n",
       "\n",
       "[94783 rows x 11 columns]"
      ]
     },
     "execution_count": 11,
     "metadata": {},
     "output_type": "execute_result"
    }
   ],
   "source": [
    "labelled_trnx_data = label_data.create_labelled_data(reference_date = 981231, apply_all_steps = True, to_csv = False)\n",
    "labelled_trnx_data"
   ]
  },
  {
   "cell_type": "markdown",
   "metadata": {},
   "source": [
    "### Extracting features"
   ]
  },
  {
   "cell_type": "code",
   "execution_count": 12,
   "metadata": {},
   "outputs": [
    {
     "data": {
      "text/html": [
       "<div>\n",
       "<style scoped>\n",
       "    .dataframe tbody tr th:only-of-type {\n",
       "        vertical-align: middle;\n",
       "    }\n",
       "\n",
       "    .dataframe tbody tr th {\n",
       "        vertical-align: top;\n",
       "    }\n",
       "\n",
       "    .dataframe thead th {\n",
       "        text-align: right;\n",
       "    }\n",
       "</style>\n",
       "<table border=\"1\" class=\"dataframe\">\n",
       "  <thead>\n",
       "    <tr style=\"text-align: right;\">\n",
       "      <th></th>\n",
       "      <th>client_id</th>\n",
       "      <th>sum_bin_0</th>\n",
       "      <th>count_bin_0</th>\n",
       "      <th>sum_bin_1</th>\n",
       "      <th>count_bin_1</th>\n",
       "      <th>sum_bin_2</th>\n",
       "      <th>count_bin_2</th>\n",
       "      <th>sum_bin_3</th>\n",
       "      <th>count_bin_3</th>\n",
       "      <th>sum_bin_4</th>\n",
       "      <th>...</th>\n",
       "      <th>count_bin_5</th>\n",
       "      <th>sum_bin_6</th>\n",
       "      <th>count_bin_6</th>\n",
       "      <th>sum_bin_7</th>\n",
       "      <th>count_bin_7</th>\n",
       "      <th>sum_bin_8</th>\n",
       "      <th>count_bin_8</th>\n",
       "      <th>sum_bin_9</th>\n",
       "      <th>count_bin_9</th>\n",
       "      <th>churn_or_not</th>\n",
       "    </tr>\n",
       "  </thead>\n",
       "  <tbody>\n",
       "    <tr>\n",
       "      <td>0</td>\n",
       "      <td>2</td>\n",
       "      <td>429529.9</td>\n",
       "      <td>0.0</td>\n",
       "      <td>0.0</td>\n",
       "      <td>524233.8</td>\n",
       "      <td>0.0</td>\n",
       "      <td>0.0</td>\n",
       "      <td>524215.4</td>\n",
       "      <td>0.0</td>\n",
       "      <td>0.0</td>\n",
       "      <td>...</td>\n",
       "      <td>0.0</td>\n",
       "      <td>0.0</td>\n",
       "      <td>85.0</td>\n",
       "      <td>0.0</td>\n",
       "      <td>0.0</td>\n",
       "      <td>85.0</td>\n",
       "      <td>0.0</td>\n",
       "      <td>0.0</td>\n",
       "      <td>85.0</td>\n",
       "      <td>0</td>\n",
       "    </tr>\n",
       "    <tr>\n",
       "      <td>1</td>\n",
       "      <td>3</td>\n",
       "      <td>429529.9</td>\n",
       "      <td>0.0</td>\n",
       "      <td>0.0</td>\n",
       "      <td>524233.8</td>\n",
       "      <td>0.0</td>\n",
       "      <td>0.0</td>\n",
       "      <td>524215.4</td>\n",
       "      <td>0.0</td>\n",
       "      <td>0.0</td>\n",
       "      <td>...</td>\n",
       "      <td>0.0</td>\n",
       "      <td>0.0</td>\n",
       "      <td>85.0</td>\n",
       "      <td>0.0</td>\n",
       "      <td>0.0</td>\n",
       "      <td>85.0</td>\n",
       "      <td>0.0</td>\n",
       "      <td>0.0</td>\n",
       "      <td>85.0</td>\n",
       "      <td>0</td>\n",
       "    </tr>\n",
       "    <tr>\n",
       "      <td>2</td>\n",
       "      <td>25</td>\n",
       "      <td>0.0</td>\n",
       "      <td>0.0</td>\n",
       "      <td>0.0</td>\n",
       "      <td>0.0</td>\n",
       "      <td>0.0</td>\n",
       "      <td>0.0</td>\n",
       "      <td>320047.7</td>\n",
       "      <td>0.0</td>\n",
       "      <td>0.0</td>\n",
       "      <td>...</td>\n",
       "      <td>0.0</td>\n",
       "      <td>0.0</td>\n",
       "      <td>0.0</td>\n",
       "      <td>0.0</td>\n",
       "      <td>0.0</td>\n",
       "      <td>54.0</td>\n",
       "      <td>0.0</td>\n",
       "      <td>0.0</td>\n",
       "      <td>90.0</td>\n",
       "      <td>0</td>\n",
       "    </tr>\n",
       "    <tr>\n",
       "      <td>3</td>\n",
       "      <td>31</td>\n",
       "      <td>0.0</td>\n",
       "      <td>0.0</td>\n",
       "      <td>0.0</td>\n",
       "      <td>0.0</td>\n",
       "      <td>0.0</td>\n",
       "      <td>0.0</td>\n",
       "      <td>0.0</td>\n",
       "      <td>0.0</td>\n",
       "      <td>0.0</td>\n",
       "      <td>...</td>\n",
       "      <td>0.0</td>\n",
       "      <td>0.0</td>\n",
       "      <td>0.0</td>\n",
       "      <td>0.0</td>\n",
       "      <td>0.0</td>\n",
       "      <td>0.0</td>\n",
       "      <td>0.0</td>\n",
       "      <td>0.0</td>\n",
       "      <td>46.0</td>\n",
       "      <td>0</td>\n",
       "    </tr>\n",
       "    <tr>\n",
       "      <td>4</td>\n",
       "      <td>78</td>\n",
       "      <td>0.0</td>\n",
       "      <td>0.0</td>\n",
       "      <td>0.0</td>\n",
       "      <td>149168.8</td>\n",
       "      <td>0.0</td>\n",
       "      <td>0.0</td>\n",
       "      <td>1094839.6</td>\n",
       "      <td>0.0</td>\n",
       "      <td>0.0</td>\n",
       "      <td>...</td>\n",
       "      <td>0.0</td>\n",
       "      <td>0.0</td>\n",
       "      <td>7.0</td>\n",
       "      <td>0.0</td>\n",
       "      <td>0.0</td>\n",
       "      <td>85.0</td>\n",
       "      <td>0.0</td>\n",
       "      <td>0.0</td>\n",
       "      <td>97.0</td>\n",
       "      <td>0</td>\n",
       "    </tr>\n",
       "    <tr>\n",
       "      <td>...</td>\n",
       "      <td>...</td>\n",
       "      <td>...</td>\n",
       "      <td>...</td>\n",
       "      <td>...</td>\n",
       "      <td>...</td>\n",
       "      <td>...</td>\n",
       "      <td>...</td>\n",
       "      <td>...</td>\n",
       "      <td>...</td>\n",
       "      <td>...</td>\n",
       "      <td>...</td>\n",
       "      <td>...</td>\n",
       "      <td>...</td>\n",
       "      <td>...</td>\n",
       "      <td>...</td>\n",
       "      <td>...</td>\n",
       "      <td>...</td>\n",
       "      <td>...</td>\n",
       "      <td>...</td>\n",
       "      <td>...</td>\n",
       "      <td>...</td>\n",
       "    </tr>\n",
       "    <tr>\n",
       "      <td>679</td>\n",
       "      <td>13924</td>\n",
       "      <td>0.0</td>\n",
       "      <td>0.0</td>\n",
       "      <td>0.0</td>\n",
       "      <td>0.0</td>\n",
       "      <td>0.0</td>\n",
       "      <td>0.0</td>\n",
       "      <td>0.0</td>\n",
       "      <td>0.0</td>\n",
       "      <td>0.0</td>\n",
       "      <td>...</td>\n",
       "      <td>0.0</td>\n",
       "      <td>0.0</td>\n",
       "      <td>0.0</td>\n",
       "      <td>0.0</td>\n",
       "      <td>0.0</td>\n",
       "      <td>0.0</td>\n",
       "      <td>0.0</td>\n",
       "      <td>0.0</td>\n",
       "      <td>6.0</td>\n",
       "      <td>0</td>\n",
       "    </tr>\n",
       "    <tr>\n",
       "      <td>680</td>\n",
       "      <td>13955</td>\n",
       "      <td>0.0</td>\n",
       "      <td>0.0</td>\n",
       "      <td>0.0</td>\n",
       "      <td>0.0</td>\n",
       "      <td>0.0</td>\n",
       "      <td>0.0</td>\n",
       "      <td>639264.2</td>\n",
       "      <td>0.0</td>\n",
       "      <td>0.0</td>\n",
       "      <td>...</td>\n",
       "      <td>0.0</td>\n",
       "      <td>0.0</td>\n",
       "      <td>0.0</td>\n",
       "      <td>0.0</td>\n",
       "      <td>0.0</td>\n",
       "      <td>35.0</td>\n",
       "      <td>0.0</td>\n",
       "      <td>0.0</td>\n",
       "      <td>88.0</td>\n",
       "      <td>0</td>\n",
       "    </tr>\n",
       "    <tr>\n",
       "      <td>681</td>\n",
       "      <td>13956</td>\n",
       "      <td>0.0</td>\n",
       "      <td>0.0</td>\n",
       "      <td>0.0</td>\n",
       "      <td>0.0</td>\n",
       "      <td>0.0</td>\n",
       "      <td>0.0</td>\n",
       "      <td>639264.2</td>\n",
       "      <td>0.0</td>\n",
       "      <td>0.0</td>\n",
       "      <td>...</td>\n",
       "      <td>0.0</td>\n",
       "      <td>0.0</td>\n",
       "      <td>0.0</td>\n",
       "      <td>0.0</td>\n",
       "      <td>0.0</td>\n",
       "      <td>35.0</td>\n",
       "      <td>0.0</td>\n",
       "      <td>0.0</td>\n",
       "      <td>88.0</td>\n",
       "      <td>0</td>\n",
       "    </tr>\n",
       "    <tr>\n",
       "      <td>682</td>\n",
       "      <td>13968</td>\n",
       "      <td>0.0</td>\n",
       "      <td>0.0</td>\n",
       "      <td>0.0</td>\n",
       "      <td>137091.9</td>\n",
       "      <td>0.0</td>\n",
       "      <td>0.0</td>\n",
       "      <td>726317.1</td>\n",
       "      <td>0.0</td>\n",
       "      <td>0.0</td>\n",
       "      <td>...</td>\n",
       "      <td>0.0</td>\n",
       "      <td>0.0</td>\n",
       "      <td>10.0</td>\n",
       "      <td>0.0</td>\n",
       "      <td>0.0</td>\n",
       "      <td>81.0</td>\n",
       "      <td>0.0</td>\n",
       "      <td>0.0</td>\n",
       "      <td>95.0</td>\n",
       "      <td>0</td>\n",
       "    </tr>\n",
       "    <tr>\n",
       "      <td>683</td>\n",
       "      <td>13971</td>\n",
       "      <td>0.0</td>\n",
       "      <td>0.0</td>\n",
       "      <td>0.0</td>\n",
       "      <td>0.0</td>\n",
       "      <td>0.0</td>\n",
       "      <td>0.0</td>\n",
       "      <td>53425.6</td>\n",
       "      <td>0.0</td>\n",
       "      <td>0.0</td>\n",
       "      <td>...</td>\n",
       "      <td>0.0</td>\n",
       "      <td>0.0</td>\n",
       "      <td>0.0</td>\n",
       "      <td>0.0</td>\n",
       "      <td>0.0</td>\n",
       "      <td>7.0</td>\n",
       "      <td>0.0</td>\n",
       "      <td>0.0</td>\n",
       "      <td>102.0</td>\n",
       "      <td>0</td>\n",
       "    </tr>\n",
       "  </tbody>\n",
       "</table>\n",
       "<p>684 rows × 22 columns</p>\n",
       "</div>"
      ],
      "text/plain": [
       "     client_id  sum_bin_0  count_bin_0  sum_bin_1  count_bin_1  sum_bin_2  \\\n",
       "0            2   429529.9          0.0        0.0     524233.8        0.0   \n",
       "1            3   429529.9          0.0        0.0     524233.8        0.0   \n",
       "2           25        0.0          0.0        0.0          0.0        0.0   \n",
       "3           31        0.0          0.0        0.0          0.0        0.0   \n",
       "4           78        0.0          0.0        0.0     149168.8        0.0   \n",
       "..         ...        ...          ...        ...          ...        ...   \n",
       "679      13924        0.0          0.0        0.0          0.0        0.0   \n",
       "680      13955        0.0          0.0        0.0          0.0        0.0   \n",
       "681      13956        0.0          0.0        0.0          0.0        0.0   \n",
       "682      13968        0.0          0.0        0.0     137091.9        0.0   \n",
       "683      13971        0.0          0.0        0.0          0.0        0.0   \n",
       "\n",
       "     count_bin_2  sum_bin_3  count_bin_3  sum_bin_4  ...  count_bin_5  \\\n",
       "0            0.0   524215.4          0.0        0.0  ...          0.0   \n",
       "1            0.0   524215.4          0.0        0.0  ...          0.0   \n",
       "2            0.0   320047.7          0.0        0.0  ...          0.0   \n",
       "3            0.0        0.0          0.0        0.0  ...          0.0   \n",
       "4            0.0  1094839.6          0.0        0.0  ...          0.0   \n",
       "..           ...        ...          ...        ...  ...          ...   \n",
       "679          0.0        0.0          0.0        0.0  ...          0.0   \n",
       "680          0.0   639264.2          0.0        0.0  ...          0.0   \n",
       "681          0.0   639264.2          0.0        0.0  ...          0.0   \n",
       "682          0.0   726317.1          0.0        0.0  ...          0.0   \n",
       "683          0.0    53425.6          0.0        0.0  ...          0.0   \n",
       "\n",
       "     sum_bin_6  count_bin_6  sum_bin_7  count_bin_7  sum_bin_8  count_bin_8  \\\n",
       "0          0.0         85.0        0.0          0.0       85.0          0.0   \n",
       "1          0.0         85.0        0.0          0.0       85.0          0.0   \n",
       "2          0.0          0.0        0.0          0.0       54.0          0.0   \n",
       "3          0.0          0.0        0.0          0.0        0.0          0.0   \n",
       "4          0.0          7.0        0.0          0.0       85.0          0.0   \n",
       "..         ...          ...        ...          ...        ...          ...   \n",
       "679        0.0          0.0        0.0          0.0        0.0          0.0   \n",
       "680        0.0          0.0        0.0          0.0       35.0          0.0   \n",
       "681        0.0          0.0        0.0          0.0       35.0          0.0   \n",
       "682        0.0         10.0        0.0          0.0       81.0          0.0   \n",
       "683        0.0          0.0        0.0          0.0        7.0          0.0   \n",
       "\n",
       "     sum_bin_9  count_bin_9  churn_or_not  \n",
       "0          0.0         85.0             0  \n",
       "1          0.0         85.0             0  \n",
       "2          0.0         90.0             0  \n",
       "3          0.0         46.0             0  \n",
       "4          0.0         97.0             0  \n",
       "..         ...          ...           ...  \n",
       "679        0.0          6.0             0  \n",
       "680        0.0         88.0             0  \n",
       "681        0.0         88.0             0  \n",
       "682        0.0         95.0             0  \n",
       "683        0.0        102.0             0  \n",
       "\n",
       "[684 rows x 22 columns]"
      ]
     },
     "execution_count": 12,
     "metadata": {},
     "output_type": "execute_result"
    }
   ],
   "source": [
    "#hide\n",
    "extract_features.extract_features(labelled_trnx_data)"
   ]
  },
  {
   "cell_type": "markdown",
   "metadata": {},
   "source": [
    "## Modelling"
   ]
  },
  {
   "cell_type": "markdown",
   "metadata": {},
   "source": [
    "### Train test split"
   ]
  },
  {
   "cell_type": "code",
   "execution_count": 13,
   "metadata": {},
   "outputs": [],
   "source": [
    "splitter = train_test_split.Stratified_Split()\n",
    "train,test = splitter()"
   ]
  },
  {
   "cell_type": "code",
   "execution_count": 14,
   "metadata": {},
   "outputs": [
    {
     "name": "stdout",
     "output_type": "stream",
     "text": [
      "(615, 22) (69, 22)\n"
     ]
    }
   ],
   "source": [
    "print(train.shape,test.shape)"
   ]
  },
  {
   "cell_type": "code",
   "execution_count": 15,
   "metadata": {},
   "outputs": [
    {
     "data": {
      "text/html": [
       "<div>\n",
       "<style scoped>\n",
       "    .dataframe tbody tr th:only-of-type {\n",
       "        vertical-align: middle;\n",
       "    }\n",
       "\n",
       "    .dataframe tbody tr th {\n",
       "        vertical-align: top;\n",
       "    }\n",
       "\n",
       "    .dataframe thead th {\n",
       "        text-align: right;\n",
       "    }\n",
       "</style>\n",
       "<table border=\"1\" class=\"dataframe\">\n",
       "  <thead>\n",
       "    <tr style=\"text-align: right;\">\n",
       "      <th></th>\n",
       "      <th>count</th>\n",
       "      <th>percentage</th>\n",
       "    </tr>\n",
       "    <tr>\n",
       "      <th>churn_or_not</th>\n",
       "      <th></th>\n",
       "      <th></th>\n",
       "    </tr>\n",
       "  </thead>\n",
       "  <tbody>\n",
       "    <tr>\n",
       "      <td>0</td>\n",
       "      <td>566</td>\n",
       "      <td>0.920325</td>\n",
       "    </tr>\n",
       "    <tr>\n",
       "      <td>1</td>\n",
       "      <td>49</td>\n",
       "      <td>0.079675</td>\n",
       "    </tr>\n",
       "  </tbody>\n",
       "</table>\n",
       "</div>"
      ],
      "text/plain": [
       "              count  percentage\n",
       "churn_or_not                   \n",
       "0               566    0.920325\n",
       "1                49    0.079675"
      ]
     },
     "metadata": {},
     "output_type": "display_data"
    },
    {
     "data": {
      "text/html": [
       "<div>\n",
       "<style scoped>\n",
       "    .dataframe tbody tr th:only-of-type {\n",
       "        vertical-align: middle;\n",
       "    }\n",
       "\n",
       "    .dataframe tbody tr th {\n",
       "        vertical-align: top;\n",
       "    }\n",
       "\n",
       "    .dataframe thead th {\n",
       "        text-align: right;\n",
       "    }\n",
       "</style>\n",
       "<table border=\"1\" class=\"dataframe\">\n",
       "  <thead>\n",
       "    <tr style=\"text-align: right;\">\n",
       "      <th></th>\n",
       "      <th>count</th>\n",
       "      <th>percentage</th>\n",
       "    </tr>\n",
       "    <tr>\n",
       "      <th>churn_or_not</th>\n",
       "      <th></th>\n",
       "      <th></th>\n",
       "    </tr>\n",
       "  </thead>\n",
       "  <tbody>\n",
       "    <tr>\n",
       "      <td>0</td>\n",
       "      <td>64</td>\n",
       "      <td>0.927536</td>\n",
       "    </tr>\n",
       "    <tr>\n",
       "      <td>1</td>\n",
       "      <td>5</td>\n",
       "      <td>0.072464</td>\n",
       "    </tr>\n",
       "  </tbody>\n",
       "</table>\n",
       "</div>"
      ],
      "text/plain": [
       "              count  percentage\n",
       "churn_or_not                   \n",
       "0                64    0.927536\n",
       "1                 5    0.072464"
      ]
     },
     "execution_count": 15,
     "metadata": {},
     "output_type": "execute_result"
    }
   ],
   "source": [
    "display(train_test_split.check_class_balance(train))\n",
    "train_test_split.check_class_balance(test)"
   ]
  },
  {
   "cell_type": "markdown",
   "metadata": {},
   "source": [
    "###  Classifier and Performance"
   ]
  },
  {
   "cell_type": "markdown",
   "metadata": {},
   "source": [
    "#### Logistic Regression"
   ]
  },
  {
   "cell_type": "code",
   "execution_count": 16,
   "metadata": {},
   "outputs": [
    {
     "name": "stdout",
     "output_type": "stream",
     "text": [
      "Fitting 5 folds for each of 10 candidates, totalling 50 fits\n"
     ]
    }
   ],
   "source": [
    "log_reg  = classifier.Classifier()\n",
    "train_result_lr, test_result_lr =  log_reg()"
   ]
  },
  {
   "cell_type": "code",
   "execution_count": 17,
   "metadata": {
    "scrolled": true
   },
   "outputs": [
    {
     "name": "stdout",
     "output_type": "stream",
     "text": [
      "              precision    recall  f1-score   support\n",
      "\n",
      "           0       0.93      0.58      0.72       566\n",
      "           1       0.10      0.53      0.17        49\n",
      "\n",
      "    accuracy                           0.58       615\n",
      "   macro avg       0.52      0.56      0.44       615\n",
      "weighted avg       0.87      0.58      0.67       615\n",
      "\n"
     ]
    },
    {
     "data": {
      "image/png": "[encoded data removed]",
      "text/plain": [
       "<Figure size 432x288 with 2 Axes>"
      ]
     },
     "metadata": {
      "needs_background": "light"
     },
     "output_type": "display_data"
    },
    {
     "name": "stdout",
     "output_type": "stream",
     "text": [
      "AUC: 0.56\n"
     ]
    },
    {
     "data": {
      "image/png": "[encoded data removed]",
      "text/plain": [
       "<Figure size 432x288 with 1 Axes>"
      ]
     },
     "metadata": {
      "needs_background": "light"
     },
     "output_type": "display_data"
    }
   ],
   "source": [
    "classifier.show_performance(train_result_lr, conf_matrix = True, Report = True, Auc_roc = True)"
   ]
  },
  {
   "cell_type": "code",
   "execution_count": 18,
   "metadata": {
    "scrolled": true
   },
   "outputs": [
    {
     "name": "stdout",
     "output_type": "stream",
     "text": [
      "              precision    recall  f1-score   support\n",
      "\n",
      "           0       1.00      0.53      0.69        64\n",
      "           1       0.14      1.00      0.25         5\n",
      "\n",
      "    accuracy                           0.57        69\n",
      "   macro avg       0.57      0.77      0.47        69\n",
      "weighted avg       0.94      0.57      0.66        69\n",
      "\n"
     ]
    },
    {
     "data": {
      "image/png": "[encoded data removed]",
      "text/plain": [
       "<Figure size 432x288 with 2 Axes>"
      ]
     },
     "metadata": {
      "needs_background": "light"
     },
     "output_type": "display_data"
    },
    {
     "name": "stdout",
     "output_type": "stream",
     "text": [
      "AUC: 0.77\n"
     ]
    },
    {
     "data": {
      "image/png": "[encoded data removed]",
      "text/plain": [
       "<Figure size 432x288 with 1 Axes>"
      ]
     },
     "metadata": {
      "needs_background": "light"
     },
     "output_type": "display_data"
    }
   ],
   "source": [
    "classifier.show_performance(test_result_lr, conf_matrix = True, Report = True, Auc_roc = True)"
   ]
  },
  {
   "cell_type": "markdown",
   "metadata": {},
   "source": [
    "#### Random Forest"
   ]
  },
  {
   "cell_type": "code",
   "execution_count": 19,
   "metadata": {},
   "outputs": [
    {
     "name": "stdout",
     "output_type": "stream",
     "text": [
      "Fitting 5 folds for each of 10 candidates, totalling 50 fits\n"
     ]
    }
   ],
   "source": [
    "#hide\n",
    "model = RandomForestClassifier(class_weight=\"balanced\")\n",
    "parameter_ranges = {\"n_estimators\":np.arange(10,100,20), \"max_depth\":np.arange(2,10,3),\"ccp_alpha\":np.arange(0,1,0.20)}\n",
    "random_forest  = classifier.Classifier(model=model, parameter_ranges = parameter_ranges, scaling=False)\n",
    "train_result_rf, test_result_rf = random_forest()"
   ]
  },
  {
   "cell_type": "code",
   "execution_count": 20,
   "metadata": {
    "scrolled": true
   },
   "outputs": [
    {
     "name": "stdout",
     "output_type": "stream",
     "text": [
      "              precision    recall  f1-score   support\n",
      "\n",
      "           0       0.95      0.95      0.95        64\n",
      "           1       0.40      0.40      0.40         5\n",
      "\n",
      "    accuracy                           0.91        69\n",
      "   macro avg       0.68      0.68      0.68        69\n",
      "weighted avg       0.91      0.91      0.91        69\n",
      "\n"
     ]
    },
    {
     "data": {
      "image/png": "[encoded data removed]",
      "text/plain": [
       "<Figure size 432x288 with 2 Axes>"
      ]
     },
     "metadata": {
      "needs_background": "light"
     },
     "output_type": "display_data"
    },
    {
     "name": "stdout",
     "output_type": "stream",
     "text": [
      "AUC: 0.68\n"
     ]
    },
    {
     "data": {
      "image/png": "[encoded data removed]",
      "text/plain": [
       "<Figure size 432x288 with 1 Axes>"
      ]
     },
     "metadata": {
      "needs_background": "light"
     },
     "output_type": "display_data"
    }
   ],
   "source": [
    "classifier.show_performance(test_result_rf, conf_matrix = True, Report = True, Auc_roc = True)"
   ]
  },
  {
   "cell_type": "code",
   "execution_count": 21,
   "metadata": {
    "scrolled": true
   },
   "outputs": [
    {
     "name": "stdout",
     "output_type": "stream",
     "text": [
      "              precision    recall  f1-score   support\n",
      "\n",
      "           0       0.95      0.95      0.95        64\n",
      "           1       0.40      0.40      0.40         5\n",
      "\n",
      "    accuracy                           0.91        69\n",
      "   macro avg       0.68      0.68      0.68        69\n",
      "weighted avg       0.91      0.91      0.91        69\n",
      "\n"
     ]
    },
    {
     "data": {
      "image/png": "[encoded data removed]",
      "text/plain": [
       "<Figure size 432x288 with 2 Axes>"
      ]
     },
     "metadata": {
      "needs_background": "light"
     },
     "output_type": "display_data"
    },
    {
     "name": "stdout",
     "output_type": "stream",
     "text": [
      "AUC: 0.68\n"
     ]
    },
    {
     "data": {
      "image/png": "[encoded data removed]",
      "text/plain": [
       "<Figure size 432x288 with 1 Axes>"
      ]
     },
     "metadata": {
      "needs_background": "light"
     },
     "output_type": "display_data"
    }
   ],
   "source": [
    "classifier.show_performance(test_result_rf, conf_matrix = True, Report = True, Auc_roc = True)"
   ]
  }
 ],
 "metadata": {
  "kernelspec": {
   "display_name": "Python 3",
   "language": "python",
   "name": "python3"
  },
  "language_info": {
   "codemirror_mode": {
    "name": "ipython",
    "version": 3
   },
   "file_extension": ".py",
   "mimetype": "text/x-python",
   "name": "python",
   "nbconvert_exporter": "python",
   "pygments_lexer": "ipython3",
   "version": "3.7.4"
  }
 },
 "nbformat": 4,
 "nbformat_minor": 2
}
