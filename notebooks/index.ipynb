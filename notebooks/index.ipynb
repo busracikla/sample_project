{
 "cells": [
  {
   "cell_type": "code",
   "execution_count": 1,
   "metadata": {
    "scrolled": true
   },
   "outputs": [],
   "source": [
    "#hide\n",
    "from sample_project import *"
   ]
  },
  {
   "cell_type": "markdown",
   "metadata": {},
   "source": [
    "# Sample project : Churn Detection\n",
    "\n",
    "> This project is created imaginarily to show my sample code for job application. The goal of the sample project is detection of customers who are going to churner. The definition of churning is determined according to activeness of accounts belong to customers"
   ]
  },
  {
   "cell_type": "markdown",
   "metadata": {},
   "source": [
    "## Install"
   ]
  },
  {
   "cell_type": "markdown",
   "metadata": {},
   "source": [
    "In order to use this project, first clone this repository (https://github.com/busracikla/sample_project) and pip install it with the command below:"
   ]
  },
  {
   "cell_type": "markdown",
   "metadata": {},
   "source": [
    "`pip install -e .`"
   ]
  },
  {
   "cell_type": "markdown",
   "metadata": {},
   "source": [
    "## Importing modules"
   ]
  },
  {
   "cell_type": "code",
   "execution_count": 2,
   "metadata": {},
   "outputs": [],
   "source": [
    "from sample_project import config\n",
    "from sample_project.helper import write_to_csv, read_from_csv\n",
    "from sample_project.preprocess import prepare_transaction_data, label_data, extract_features\n",
    "from sample_project.model import train_test_split, classifier"
   ]
  },
  {
   "cell_type": "code",
   "execution_count": 3,
   "metadata": {},
   "outputs": [],
   "source": [
    "from sklearn.ensemble import RandomForestClassifier\n",
    "import pandas as pd\n",
    "import numpy as np\n",
    "import warnings\n",
    "warnings.filterwarnings(\"ignore\")"
   ]
  },
  {
   "cell_type": "markdown",
   "metadata": {},
   "source": [
    "## Preprocessing"
   ]
  },
  {
   "cell_type": "markdown",
   "metadata": {},
   "source": [
    "### Preparing the list of customers in the scope "
   ]
  },
  {
   "cell_type": "code",
   "execution_count": 4,
   "metadata": {},
   "outputs": [],
   "source": [
    "data_creator = prepare_transaction_data.Create_Data()"
   ]
  },
  {
   "cell_type": "code",
   "execution_count": 5,
   "metadata": {},
   "outputs": [
    {
     "data": {
      "text/html": [
       "<div>\n",
       "<style scoped>\n",
       "    .dataframe tbody tr th:only-of-type {\n",
       "        vertical-align: middle;\n",
       "    }\n",
       "\n",
       "    .dataframe tbody tr th {\n",
       "        vertical-align: top;\n",
       "    }\n",
       "\n",
       "    .dataframe thead th {\n",
       "        text-align: right;\n",
       "    }\n",
       "</style>\n",
       "<table border=\"1\" class=\"dataframe\">\n",
       "  <thead>\n",
       "    <tr style=\"text-align: right;\">\n",
       "      <th></th>\n",
       "      <th>trans_id</th>\n",
       "      <th>account_id</th>\n",
       "      <th>date</th>\n",
       "      <th>type</th>\n",
       "      <th>operation</th>\n",
       "      <th>amount</th>\n",
       "      <th>balance</th>\n",
       "      <th>client_id</th>\n",
       "      <th>district_id</th>\n",
       "      <th>Total_Loan_Amount</th>\n",
       "    </tr>\n",
       "  </thead>\n",
       "  <tbody>\n",
       "    <tr>\n",
       "      <td>108</td>\n",
       "      <td>1121963</td>\n",
       "      <td>3834</td>\n",
       "      <td>930119</td>\n",
       "      <td>\"PRIJEM\"</td>\n",
       "      <td>\"VKLAD\"</td>\n",
       "      <td>700.0</td>\n",
       "      <td>700.0</td>\n",
       "      <td>4620</td>\n",
       "      <td>54</td>\n",
       "      <td>23052.0</td>\n",
       "    </tr>\n",
       "    <tr>\n",
       "      <td>109</td>\n",
       "      <td>1121963</td>\n",
       "      <td>3834</td>\n",
       "      <td>930119</td>\n",
       "      <td>\"PRIJEM\"</td>\n",
       "      <td>\"VKLAD\"</td>\n",
       "      <td>700.0</td>\n",
       "      <td>700.0</td>\n",
       "      <td>4621</td>\n",
       "      <td>54</td>\n",
       "      <td>23052.0</td>\n",
       "    </tr>\n",
       "    <tr>\n",
       "      <td>134</td>\n",
       "      <td>2809952</td>\n",
       "      <td>9307</td>\n",
       "      <td>930124</td>\n",
       "      <td>\"PRIJEM\"</td>\n",
       "      <td>\"VKLAD\"</td>\n",
       "      <td>900.0</td>\n",
       "      <td>900.0</td>\n",
       "      <td>11461</td>\n",
       "      <td>70</td>\n",
       "      <td>41904.0</td>\n",
       "    </tr>\n",
       "    <tr>\n",
       "      <td>204</td>\n",
       "      <td>2809959</td>\n",
       "      <td>9307</td>\n",
       "      <td>930131</td>\n",
       "      <td>\"PRIJEM\"</td>\n",
       "      <td>\"VKLAD\"</td>\n",
       "      <td>5282.0</td>\n",
       "      <td>6182.0</td>\n",
       "      <td>11461</td>\n",
       "      <td>70</td>\n",
       "      <td>41904.0</td>\n",
       "    </tr>\n",
       "    <tr>\n",
       "      <td>210</td>\n",
       "      <td>3479816</td>\n",
       "      <td>9307</td>\n",
       "      <td>930131</td>\n",
       "      <td>\"PRIJEM\"</td>\n",
       "      <td>\"\"</td>\n",
       "      <td>0.8</td>\n",
       "      <td>6182.8</td>\n",
       "      <td>11461</td>\n",
       "      <td>70</td>\n",
       "      <td>41904.0</td>\n",
       "    </tr>\n",
       "    <tr>\n",
       "      <td>...</td>\n",
       "      <td>...</td>\n",
       "      <td>...</td>\n",
       "      <td>...</td>\n",
       "      <td>...</td>\n",
       "      <td>...</td>\n",
       "      <td>...</td>\n",
       "      <td>...</td>\n",
       "      <td>...</td>\n",
       "      <td>...</td>\n",
       "      <td>...</td>\n",
       "    </tr>\n",
       "    <tr>\n",
       "      <td>1262500</td>\n",
       "      <td>3526939</td>\n",
       "      <td>11021</td>\n",
       "      <td>981231</td>\n",
       "      <td>\"PRIJEM\"</td>\n",
       "      <td>\"\"</td>\n",
       "      <td>227.6</td>\n",
       "      <td>108432.0</td>\n",
       "      <td>13548</td>\n",
       "      <td>1</td>\n",
       "      <td>168984.0</td>\n",
       "    </tr>\n",
       "    <tr>\n",
       "      <td>1262507</td>\n",
       "      <td>3521857</td>\n",
       "      <td>10478</td>\n",
       "      <td>981231</td>\n",
       "      <td>\"PRIJEM\"</td>\n",
       "      <td>\"\"</td>\n",
       "      <td>161.2</td>\n",
       "      <td>31106.7</td>\n",
       "      <td>12890</td>\n",
       "      <td>70</td>\n",
       "      <td>267600.0</td>\n",
       "    </tr>\n",
       "    <tr>\n",
       "      <td>1262509</td>\n",
       "      <td>3523087</td>\n",
       "      <td>10652</td>\n",
       "      <td>981231</td>\n",
       "      <td>\"PRIJEM\"</td>\n",
       "      <td>\"\"</td>\n",
       "      <td>171.4</td>\n",
       "      <td>44224.8</td>\n",
       "      <td>13098</td>\n",
       "      <td>1</td>\n",
       "      <td>45720.0</td>\n",
       "    </tr>\n",
       "    <tr>\n",
       "      <td>1262549</td>\n",
       "      <td>3625495</td>\n",
       "      <td>2872</td>\n",
       "      <td>981231</td>\n",
       "      <td>\"PRIJEM\"</td>\n",
       "      <td>\"\"</td>\n",
       "      <td>67.9</td>\n",
       "      <td>17036.9</td>\n",
       "      <td>3471</td>\n",
       "      <td>1</td>\n",
       "      <td>268320.0</td>\n",
       "    </tr>\n",
       "    <tr>\n",
       "      <td>1262597</td>\n",
       "      <td>3626847</td>\n",
       "      <td>2912</td>\n",
       "      <td>981231</td>\n",
       "      <td>\"PRIJEM\"</td>\n",
       "      <td>\"\"</td>\n",
       "      <td>271.6</td>\n",
       "      <td>58694.2</td>\n",
       "      <td>3519</td>\n",
       "      <td>74</td>\n",
       "      <td>380160.0</td>\n",
       "    </tr>\n",
       "  </tbody>\n",
       "</table>\n",
       "<p>62113 rows × 10 columns</p>\n",
       "</div>"
      ],
      "text/plain": [
       "         trans_id  account_id    date      type operation  amount   balance  \\\n",
       "108       1121963        3834  930119  \"PRIJEM\"   \"VKLAD\"   700.0     700.0   \n",
       "109       1121963        3834  930119  \"PRIJEM\"   \"VKLAD\"   700.0     700.0   \n",
       "134       2809952        9307  930124  \"PRIJEM\"   \"VKLAD\"   900.0     900.0   \n",
       "204       2809959        9307  930131  \"PRIJEM\"   \"VKLAD\"  5282.0    6182.0   \n",
       "210       3479816        9307  930131  \"PRIJEM\"        \"\"     0.8    6182.8   \n",
       "...           ...         ...     ...       ...       ...     ...       ...   \n",
       "1262500   3526939       11021  981231  \"PRIJEM\"        \"\"   227.6  108432.0   \n",
       "1262507   3521857       10478  981231  \"PRIJEM\"        \"\"   161.2   31106.7   \n",
       "1262509   3523087       10652  981231  \"PRIJEM\"        \"\"   171.4   44224.8   \n",
       "1262549   3625495        2872  981231  \"PRIJEM\"        \"\"    67.9   17036.9   \n",
       "1262597   3626847        2912  981231  \"PRIJEM\"        \"\"   271.6   58694.2   \n",
       "\n",
       "         client_id  district_id  Total_Loan_Amount  \n",
       "108           4620           54            23052.0  \n",
       "109           4621           54            23052.0  \n",
       "134          11461           70            41904.0  \n",
       "204          11461           70            41904.0  \n",
       "210          11461           70            41904.0  \n",
       "...            ...          ...                ...  \n",
       "1262500      13548            1           168984.0  \n",
       "1262507      12890           70           267600.0  \n",
       "1262509      13098            1            45720.0  \n",
       "1262549       3471            1           268320.0  \n",
       "1262597       3519           74           380160.0  \n",
       "\n",
       "[62113 rows x 10 columns]"
      ]
     },
     "execution_count": 5,
     "metadata": {},
     "output_type": "execute_result"
    }
   ],
   "source": [
    "trnx_scope = data_creator()\n",
    "trnx_scope"
   ]
  },
  {
   "cell_type": "markdown",
   "metadata": {},
   "source": [
    "### Preparing Label"
   ]
  },
  {
   "cell_type": "code",
   "execution_count": 7,
   "metadata": {},
   "outputs": [
    {
     "data": {
      "text/html": [
       "<div>\n",
       "<style scoped>\n",
       "    .dataframe tbody tr th:only-of-type {\n",
       "        vertical-align: middle;\n",
       "    }\n",
       "\n",
       "    .dataframe tbody tr th {\n",
       "        vertical-align: top;\n",
       "    }\n",
       "\n",
       "    .dataframe thead th {\n",
       "        text-align: right;\n",
       "    }\n",
       "</style>\n",
       "<table border=\"1\" class=\"dataframe\">\n",
       "  <thead>\n",
       "    <tr style=\"text-align: right;\">\n",
       "      <th></th>\n",
       "      <th>trans_id</th>\n",
       "      <th>account_id</th>\n",
       "      <th>date</th>\n",
       "      <th>type</th>\n",
       "      <th>operation</th>\n",
       "      <th>amount</th>\n",
       "      <th>balance</th>\n",
       "      <th>client_id</th>\n",
       "      <th>district_id</th>\n",
       "      <th>Total_Loan_Amount</th>\n",
       "      <th>churn_or_not</th>\n",
       "    </tr>\n",
       "  </thead>\n",
       "  <tbody>\n",
       "    <tr>\n",
       "      <td>0</td>\n",
       "      <td>1121963</td>\n",
       "      <td>3834</td>\n",
       "      <td>930119</td>\n",
       "      <td>\"PRIJEM\"</td>\n",
       "      <td>\"VKLAD\"</td>\n",
       "      <td>700.0</td>\n",
       "      <td>700.0</td>\n",
       "      <td>4620</td>\n",
       "      <td>54</td>\n",
       "      <td>23052.0</td>\n",
       "      <td>0</td>\n",
       "    </tr>\n",
       "    <tr>\n",
       "      <td>1</td>\n",
       "      <td>1121963</td>\n",
       "      <td>3834</td>\n",
       "      <td>930119</td>\n",
       "      <td>\"PRIJEM\"</td>\n",
       "      <td>\"VKLAD\"</td>\n",
       "      <td>700.0</td>\n",
       "      <td>700.0</td>\n",
       "      <td>4621</td>\n",
       "      <td>54</td>\n",
       "      <td>23052.0</td>\n",
       "      <td>0</td>\n",
       "    </tr>\n",
       "    <tr>\n",
       "      <td>2</td>\n",
       "      <td>2809952</td>\n",
       "      <td>9307</td>\n",
       "      <td>930124</td>\n",
       "      <td>\"PRIJEM\"</td>\n",
       "      <td>\"VKLAD\"</td>\n",
       "      <td>900.0</td>\n",
       "      <td>900.0</td>\n",
       "      <td>11461</td>\n",
       "      <td>70</td>\n",
       "      <td>41904.0</td>\n",
       "      <td>0</td>\n",
       "    </tr>\n",
       "    <tr>\n",
       "      <td>3</td>\n",
       "      <td>2809959</td>\n",
       "      <td>9307</td>\n",
       "      <td>930131</td>\n",
       "      <td>\"PRIJEM\"</td>\n",
       "      <td>\"VKLAD\"</td>\n",
       "      <td>5282.0</td>\n",
       "      <td>6182.0</td>\n",
       "      <td>11461</td>\n",
       "      <td>70</td>\n",
       "      <td>41904.0</td>\n",
       "      <td>0</td>\n",
       "    </tr>\n",
       "    <tr>\n",
       "      <td>4</td>\n",
       "      <td>3479816</td>\n",
       "      <td>9307</td>\n",
       "      <td>930131</td>\n",
       "      <td>\"PRIJEM\"</td>\n",
       "      <td>\"\"</td>\n",
       "      <td>0.8</td>\n",
       "      <td>6182.8</td>\n",
       "      <td>11461</td>\n",
       "      <td>70</td>\n",
       "      <td>41904.0</td>\n",
       "      <td>0</td>\n",
       "    </tr>\n",
       "    <tr>\n",
       "      <td>...</td>\n",
       "      <td>...</td>\n",
       "      <td>...</td>\n",
       "      <td>...</td>\n",
       "      <td>...</td>\n",
       "      <td>...</td>\n",
       "      <td>...</td>\n",
       "      <td>...</td>\n",
       "      <td>...</td>\n",
       "      <td>...</td>\n",
       "      <td>...</td>\n",
       "      <td>...</td>\n",
       "    </tr>\n",
       "    <tr>\n",
       "      <td>62108</td>\n",
       "      <td>3526939</td>\n",
       "      <td>11021</td>\n",
       "      <td>981231</td>\n",
       "      <td>\"PRIJEM\"</td>\n",
       "      <td>\"\"</td>\n",
       "      <td>227.6</td>\n",
       "      <td>108432.0</td>\n",
       "      <td>13548</td>\n",
       "      <td>1</td>\n",
       "      <td>168984.0</td>\n",
       "      <td>0</td>\n",
       "    </tr>\n",
       "    <tr>\n",
       "      <td>62109</td>\n",
       "      <td>3521857</td>\n",
       "      <td>10478</td>\n",
       "      <td>981231</td>\n",
       "      <td>\"PRIJEM\"</td>\n",
       "      <td>\"\"</td>\n",
       "      <td>161.2</td>\n",
       "      <td>31106.7</td>\n",
       "      <td>12890</td>\n",
       "      <td>70</td>\n",
       "      <td>267600.0</td>\n",
       "      <td>0</td>\n",
       "    </tr>\n",
       "    <tr>\n",
       "      <td>62110</td>\n",
       "      <td>3523087</td>\n",
       "      <td>10652</td>\n",
       "      <td>981231</td>\n",
       "      <td>\"PRIJEM\"</td>\n",
       "      <td>\"\"</td>\n",
       "      <td>171.4</td>\n",
       "      <td>44224.8</td>\n",
       "      <td>13098</td>\n",
       "      <td>1</td>\n",
       "      <td>45720.0</td>\n",
       "      <td>0</td>\n",
       "    </tr>\n",
       "    <tr>\n",
       "      <td>62111</td>\n",
       "      <td>3625495</td>\n",
       "      <td>2872</td>\n",
       "      <td>981231</td>\n",
       "      <td>\"PRIJEM\"</td>\n",
       "      <td>\"\"</td>\n",
       "      <td>67.9</td>\n",
       "      <td>17036.9</td>\n",
       "      <td>3471</td>\n",
       "      <td>1</td>\n",
       "      <td>268320.0</td>\n",
       "      <td>0</td>\n",
       "    </tr>\n",
       "    <tr>\n",
       "      <td>62112</td>\n",
       "      <td>3626847</td>\n",
       "      <td>2912</td>\n",
       "      <td>981231</td>\n",
       "      <td>\"PRIJEM\"</td>\n",
       "      <td>\"\"</td>\n",
       "      <td>271.6</td>\n",
       "      <td>58694.2</td>\n",
       "      <td>3519</td>\n",
       "      <td>74</td>\n",
       "      <td>380160.0</td>\n",
       "      <td>0</td>\n",
       "    </tr>\n",
       "  </tbody>\n",
       "</table>\n",
       "<p>62113 rows × 11 columns</p>\n",
       "</div>"
      ],
      "text/plain": [
       "       trans_id  account_id    date      type operation  amount   balance  \\\n",
       "0       1121963        3834  930119  \"PRIJEM\"   \"VKLAD\"   700.0     700.0   \n",
       "1       1121963        3834  930119  \"PRIJEM\"   \"VKLAD\"   700.0     700.0   \n",
       "2       2809952        9307  930124  \"PRIJEM\"   \"VKLAD\"   900.0     900.0   \n",
       "3       2809959        9307  930131  \"PRIJEM\"   \"VKLAD\"  5282.0    6182.0   \n",
       "4       3479816        9307  930131  \"PRIJEM\"        \"\"     0.8    6182.8   \n",
       "...         ...         ...     ...       ...       ...     ...       ...   \n",
       "62108   3526939       11021  981231  \"PRIJEM\"        \"\"   227.6  108432.0   \n",
       "62109   3521857       10478  981231  \"PRIJEM\"        \"\"   161.2   31106.7   \n",
       "62110   3523087       10652  981231  \"PRIJEM\"        \"\"   171.4   44224.8   \n",
       "62111   3625495        2872  981231  \"PRIJEM\"        \"\"    67.9   17036.9   \n",
       "62112   3626847        2912  981231  \"PRIJEM\"        \"\"   271.6   58694.2   \n",
       "\n",
       "       client_id  district_id  Total_Loan_Amount  churn_or_not  \n",
       "0           4620           54            23052.0             0  \n",
       "1           4621           54            23052.0             0  \n",
       "2          11461           70            41904.0             0  \n",
       "3          11461           70            41904.0             0  \n",
       "4          11461           70            41904.0             0  \n",
       "...          ...          ...                ...           ...  \n",
       "62108      13548            1           168984.0             0  \n",
       "62109      12890           70           267600.0             0  \n",
       "62110      13098            1            45720.0             0  \n",
       "62111       3471            1           268320.0             0  \n",
       "62112       3519           74           380160.0             0  \n",
       "\n",
       "[62113 rows x 11 columns]"
      ]
     },
     "execution_count": 7,
     "metadata": {},
     "output_type": "execute_result"
    }
   ],
   "source": [
    "labeller = label_data.Label_Data(reference_date = 981231, to_csv=True)\n",
    "labelled_trnx_data = labeller()\n",
    "labelled_trnx_data"
   ]
  },
  {
   "cell_type": "markdown",
   "metadata": {},
   "source": [
    "### Extracting features"
   ]
  },
  {
   "cell_type": "code",
   "execution_count": 8,
   "metadata": {},
   "outputs": [
    {
     "data": {
      "text/html": [
       "<div>\n",
       "<style scoped>\n",
       "    .dataframe tbody tr th:only-of-type {\n",
       "        vertical-align: middle;\n",
       "    }\n",
       "\n",
       "    .dataframe tbody tr th {\n",
       "        vertical-align: top;\n",
       "    }\n",
       "\n",
       "    .dataframe thead th {\n",
       "        text-align: right;\n",
       "    }\n",
       "</style>\n",
       "<table border=\"1\" class=\"dataframe\">\n",
       "  <thead>\n",
       "    <tr style=\"text-align: right;\">\n",
       "      <th></th>\n",
       "      <th>client_id</th>\n",
       "      <th>sum_bin_0</th>\n",
       "      <th>count_bin_0</th>\n",
       "      <th>sum_bin_1</th>\n",
       "      <th>count_bin_1</th>\n",
       "      <th>sum_bin_2</th>\n",
       "      <th>count_bin_2</th>\n",
       "      <th>sum_bin_3</th>\n",
       "      <th>count_bin_3</th>\n",
       "      <th>sum_bin_4</th>\n",
       "      <th>...</th>\n",
       "      <th>count_bin_5</th>\n",
       "      <th>sum_bin_6</th>\n",
       "      <th>count_bin_6</th>\n",
       "      <th>sum_bin_7</th>\n",
       "      <th>count_bin_7</th>\n",
       "      <th>sum_bin_8</th>\n",
       "      <th>count_bin_8</th>\n",
       "      <th>sum_bin_9</th>\n",
       "      <th>count_bin_9</th>\n",
       "      <th>churn_or_not</th>\n",
       "    </tr>\n",
       "  </thead>\n",
       "  <tbody>\n",
       "    <tr>\n",
       "      <td>0</td>\n",
       "      <td>2</td>\n",
       "      <td>429529.9</td>\n",
       "      <td>118920.7</td>\n",
       "      <td>405313.1</td>\n",
       "      <td>214904.4</td>\n",
       "      <td>309311.0</td>\n",
       "      <td>350379.9</td>\n",
       "      <td>212737.2</td>\n",
       "      <td>438670.3</td>\n",
       "      <td>124000.9</td>\n",
       "      <td>...</td>\n",
       "      <td>22.0</td>\n",
       "      <td>63.0</td>\n",
       "      <td>39.0</td>\n",
       "      <td>46.0</td>\n",
       "      <td>51.0</td>\n",
       "      <td>34.0</td>\n",
       "      <td>67.0</td>\n",
       "      <td>17.0</td>\n",
       "      <td>85.0</td>\n",
       "      <td>0</td>\n",
       "    </tr>\n",
       "    <tr>\n",
       "      <td>1</td>\n",
       "      <td>3</td>\n",
       "      <td>429529.9</td>\n",
       "      <td>118920.7</td>\n",
       "      <td>405313.1</td>\n",
       "      <td>214904.4</td>\n",
       "      <td>309311.0</td>\n",
       "      <td>350379.9</td>\n",
       "      <td>212737.2</td>\n",
       "      <td>438670.3</td>\n",
       "      <td>124000.9</td>\n",
       "      <td>...</td>\n",
       "      <td>22.0</td>\n",
       "      <td>63.0</td>\n",
       "      <td>39.0</td>\n",
       "      <td>46.0</td>\n",
       "      <td>51.0</td>\n",
       "      <td>34.0</td>\n",
       "      <td>67.0</td>\n",
       "      <td>17.0</td>\n",
       "      <td>85.0</td>\n",
       "      <td>0</td>\n",
       "    </tr>\n",
       "    <tr>\n",
       "      <td>2</td>\n",
       "      <td>116</td>\n",
       "      <td>0.0</td>\n",
       "      <td>0.0</td>\n",
       "      <td>0.0</td>\n",
       "      <td>0.0</td>\n",
       "      <td>0.0</td>\n",
       "      <td>82366.1</td>\n",
       "      <td>228773.9</td>\n",
       "      <td>331147.9</td>\n",
       "      <td>122530.2</td>\n",
       "      <td>...</td>\n",
       "      <td>0.0</td>\n",
       "      <td>0.0</td>\n",
       "      <td>0.0</td>\n",
       "      <td>0.0</td>\n",
       "      <td>9.0</td>\n",
       "      <td>38.0</td>\n",
       "      <td>90.0</td>\n",
       "      <td>27.0</td>\n",
       "      <td>110.0</td>\n",
       "      <td>0</td>\n",
       "    </tr>\n",
       "    <tr>\n",
       "      <td>3</td>\n",
       "      <td>117</td>\n",
       "      <td>0.0</td>\n",
       "      <td>0.0</td>\n",
       "      <td>0.0</td>\n",
       "      <td>0.0</td>\n",
       "      <td>0.0</td>\n",
       "      <td>82366.1</td>\n",
       "      <td>228773.9</td>\n",
       "      <td>331147.9</td>\n",
       "      <td>122530.2</td>\n",
       "      <td>...</td>\n",
       "      <td>0.0</td>\n",
       "      <td>0.0</td>\n",
       "      <td>0.0</td>\n",
       "      <td>0.0</td>\n",
       "      <td>9.0</td>\n",
       "      <td>38.0</td>\n",
       "      <td>90.0</td>\n",
       "      <td>27.0</td>\n",
       "      <td>110.0</td>\n",
       "      <td>0</td>\n",
       "    </tr>\n",
       "    <tr>\n",
       "      <td>4</td>\n",
       "      <td>272</td>\n",
       "      <td>0.0</td>\n",
       "      <td>0.0</td>\n",
       "      <td>0.0</td>\n",
       "      <td>0.0</td>\n",
       "      <td>0.0</td>\n",
       "      <td>0.0</td>\n",
       "      <td>0.0</td>\n",
       "      <td>283881.0</td>\n",
       "      <td>112400.8</td>\n",
       "      <td>...</td>\n",
       "      <td>0.0</td>\n",
       "      <td>0.0</td>\n",
       "      <td>0.0</td>\n",
       "      <td>0.0</td>\n",
       "      <td>0.0</td>\n",
       "      <td>0.0</td>\n",
       "      <td>35.0</td>\n",
       "      <td>18.0</td>\n",
       "      <td>76.0</td>\n",
       "      <td>1</td>\n",
       "    </tr>\n",
       "    <tr>\n",
       "      <td>...</td>\n",
       "      <td>...</td>\n",
       "      <td>...</td>\n",
       "      <td>...</td>\n",
       "      <td>...</td>\n",
       "      <td>...</td>\n",
       "      <td>...</td>\n",
       "      <td>...</td>\n",
       "      <td>...</td>\n",
       "      <td>...</td>\n",
       "      <td>...</td>\n",
       "      <td>...</td>\n",
       "      <td>...</td>\n",
       "      <td>...</td>\n",
       "      <td>...</td>\n",
       "      <td>...</td>\n",
       "      <td>...</td>\n",
       "      <td>...</td>\n",
       "      <td>...</td>\n",
       "      <td>...</td>\n",
       "      <td>...</td>\n",
       "      <td>...</td>\n",
       "    </tr>\n",
       "    <tr>\n",
       "      <td>212</td>\n",
       "      <td>13694</td>\n",
       "      <td>0.0</td>\n",
       "      <td>0.0</td>\n",
       "      <td>0.0</td>\n",
       "      <td>0.0</td>\n",
       "      <td>0.0</td>\n",
       "      <td>0.0</td>\n",
       "      <td>0.0</td>\n",
       "      <td>521088.0</td>\n",
       "      <td>211109.3</td>\n",
       "      <td>...</td>\n",
       "      <td>0.0</td>\n",
       "      <td>0.0</td>\n",
       "      <td>0.0</td>\n",
       "      <td>0.0</td>\n",
       "      <td>0.0</td>\n",
       "      <td>0.0</td>\n",
       "      <td>40.0</td>\n",
       "      <td>26.0</td>\n",
       "      <td>86.0</td>\n",
       "      <td>0</td>\n",
       "    </tr>\n",
       "    <tr>\n",
       "      <td>213</td>\n",
       "      <td>13803</td>\n",
       "      <td>0.0</td>\n",
       "      <td>0.0</td>\n",
       "      <td>0.0</td>\n",
       "      <td>0.0</td>\n",
       "      <td>0.0</td>\n",
       "      <td>0.0</td>\n",
       "      <td>0.0</td>\n",
       "      <td>729491.6</td>\n",
       "      <td>283743.7</td>\n",
       "      <td>...</td>\n",
       "      <td>0.0</td>\n",
       "      <td>0.0</td>\n",
       "      <td>0.0</td>\n",
       "      <td>0.0</td>\n",
       "      <td>0.0</td>\n",
       "      <td>0.0</td>\n",
       "      <td>48.0</td>\n",
       "      <td>25.0</td>\n",
       "      <td>100.0</td>\n",
       "      <td>0</td>\n",
       "    </tr>\n",
       "    <tr>\n",
       "      <td>214</td>\n",
       "      <td>13924</td>\n",
       "      <td>0.0</td>\n",
       "      <td>0.0</td>\n",
       "      <td>0.0</td>\n",
       "      <td>0.0</td>\n",
       "      <td>0.0</td>\n",
       "      <td>0.0</td>\n",
       "      <td>74937.7</td>\n",
       "      <td>311447.8</td>\n",
       "      <td>84070.1</td>\n",
       "      <td>...</td>\n",
       "      <td>0.0</td>\n",
       "      <td>0.0</td>\n",
       "      <td>0.0</td>\n",
       "      <td>0.0</td>\n",
       "      <td>0.0</td>\n",
       "      <td>6.0</td>\n",
       "      <td>40.0</td>\n",
       "      <td>13.0</td>\n",
       "      <td>87.0</td>\n",
       "      <td>0</td>\n",
       "    </tr>\n",
       "    <tr>\n",
       "      <td>215</td>\n",
       "      <td>13955</td>\n",
       "      <td>0.0</td>\n",
       "      <td>0.0</td>\n",
       "      <td>0.0</td>\n",
       "      <td>200.0</td>\n",
       "      <td>639064.2</td>\n",
       "      <td>635662.3</td>\n",
       "      <td>458298.0</td>\n",
       "      <td>865043.2</td>\n",
       "      <td>255872.6</td>\n",
       "      <td>...</td>\n",
       "      <td>0.0</td>\n",
       "      <td>0.0</td>\n",
       "      <td>1.0</td>\n",
       "      <td>34.0</td>\n",
       "      <td>53.0</td>\n",
       "      <td>35.0</td>\n",
       "      <td>72.0</td>\n",
       "      <td>21.0</td>\n",
       "      <td>88.0</td>\n",
       "      <td>0</td>\n",
       "    </tr>\n",
       "    <tr>\n",
       "      <td>216</td>\n",
       "      <td>13956</td>\n",
       "      <td>0.0</td>\n",
       "      <td>0.0</td>\n",
       "      <td>0.0</td>\n",
       "      <td>200.0</td>\n",
       "      <td>639064.2</td>\n",
       "      <td>635662.3</td>\n",
       "      <td>458298.0</td>\n",
       "      <td>865043.2</td>\n",
       "      <td>255872.6</td>\n",
       "      <td>...</td>\n",
       "      <td>0.0</td>\n",
       "      <td>0.0</td>\n",
       "      <td>1.0</td>\n",
       "      <td>34.0</td>\n",
       "      <td>53.0</td>\n",
       "      <td>35.0</td>\n",
       "      <td>72.0</td>\n",
       "      <td>21.0</td>\n",
       "      <td>88.0</td>\n",
       "      <td>0</td>\n",
       "    </tr>\n",
       "  </tbody>\n",
       "</table>\n",
       "<p>217 rows × 22 columns</p>\n",
       "</div>"
      ],
      "text/plain": [
       "     client_id  sum_bin_0  count_bin_0  sum_bin_1  count_bin_1  sum_bin_2  \\\n",
       "0            2   429529.9     118920.7   405313.1     214904.4   309311.0   \n",
       "1            3   429529.9     118920.7   405313.1     214904.4   309311.0   \n",
       "2          116        0.0          0.0        0.0          0.0        0.0   \n",
       "3          117        0.0          0.0        0.0          0.0        0.0   \n",
       "4          272        0.0          0.0        0.0          0.0        0.0   \n",
       "..         ...        ...          ...        ...          ...        ...   \n",
       "212      13694        0.0          0.0        0.0          0.0        0.0   \n",
       "213      13803        0.0          0.0        0.0          0.0        0.0   \n",
       "214      13924        0.0          0.0        0.0          0.0        0.0   \n",
       "215      13955        0.0          0.0        0.0        200.0   639064.2   \n",
       "216      13956        0.0          0.0        0.0        200.0   639064.2   \n",
       "\n",
       "     count_bin_2  sum_bin_3  count_bin_3  sum_bin_4  ...  count_bin_5  \\\n",
       "0       350379.9   212737.2     438670.3   124000.9  ...         22.0   \n",
       "1       350379.9   212737.2     438670.3   124000.9  ...         22.0   \n",
       "2        82366.1   228773.9     331147.9   122530.2  ...          0.0   \n",
       "3        82366.1   228773.9     331147.9   122530.2  ...          0.0   \n",
       "4            0.0        0.0     283881.0   112400.8  ...          0.0   \n",
       "..           ...        ...          ...        ...  ...          ...   \n",
       "212          0.0        0.0     521088.0   211109.3  ...          0.0   \n",
       "213          0.0        0.0     729491.6   283743.7  ...          0.0   \n",
       "214          0.0    74937.7     311447.8    84070.1  ...          0.0   \n",
       "215     635662.3   458298.0     865043.2   255872.6  ...          0.0   \n",
       "216     635662.3   458298.0     865043.2   255872.6  ...          0.0   \n",
       "\n",
       "     sum_bin_6  count_bin_6  sum_bin_7  count_bin_7  sum_bin_8  count_bin_8  \\\n",
       "0         63.0         39.0       46.0         51.0       34.0         67.0   \n",
       "1         63.0         39.0       46.0         51.0       34.0         67.0   \n",
       "2          0.0          0.0        0.0          9.0       38.0         90.0   \n",
       "3          0.0          0.0        0.0          9.0       38.0         90.0   \n",
       "4          0.0          0.0        0.0          0.0        0.0         35.0   \n",
       "..         ...          ...        ...          ...        ...          ...   \n",
       "212        0.0          0.0        0.0          0.0        0.0         40.0   \n",
       "213        0.0          0.0        0.0          0.0        0.0         48.0   \n",
       "214        0.0          0.0        0.0          0.0        6.0         40.0   \n",
       "215        0.0          1.0       34.0         53.0       35.0         72.0   \n",
       "216        0.0          1.0       34.0         53.0       35.0         72.0   \n",
       "\n",
       "     sum_bin_9  count_bin_9  churn_or_not  \n",
       "0         17.0         85.0             0  \n",
       "1         17.0         85.0             0  \n",
       "2         27.0        110.0             0  \n",
       "3         27.0        110.0             0  \n",
       "4         18.0         76.0             1  \n",
       "..         ...          ...           ...  \n",
       "212       26.0         86.0             0  \n",
       "213       25.0        100.0             0  \n",
       "214       13.0         87.0             0  \n",
       "215       21.0         88.0             0  \n",
       "216       21.0         88.0             0  \n",
       "\n",
       "[217 rows x 22 columns]"
      ]
     },
     "execution_count": 8,
     "metadata": {},
     "output_type": "execute_result"
    }
   ],
   "source": [
    "#hide\n",
    "extract_features.extract_features(labelled_trnx_data)"
   ]
  },
  {
   "cell_type": "markdown",
   "metadata": {},
   "source": [
    "## Modelling"
   ]
  },
  {
   "cell_type": "markdown",
   "metadata": {},
   "source": [
    "### Train test split"
   ]
  },
  {
   "cell_type": "code",
   "execution_count": 9,
   "metadata": {},
   "outputs": [],
   "source": [
    "splitter = train_test_split.Stratified_Split()\n",
    "train,test = splitter()"
   ]
  },
  {
   "cell_type": "code",
   "execution_count": 10,
   "metadata": {},
   "outputs": [
    {
     "name": "stdout",
     "output_type": "stream",
     "text": [
      "(195, 22) (22, 22)\n"
     ]
    }
   ],
   "source": [
    "print(train.shape,test.shape)"
   ]
  },
  {
   "cell_type": "code",
   "execution_count": 11,
   "metadata": {},
   "outputs": [
    {
     "data": {
      "text/html": [
       "<div>\n",
       "<style scoped>\n",
       "    .dataframe tbody tr th:only-of-type {\n",
       "        vertical-align: middle;\n",
       "    }\n",
       "\n",
       "    .dataframe tbody tr th {\n",
       "        vertical-align: top;\n",
       "    }\n",
       "\n",
       "    .dataframe thead th {\n",
       "        text-align: right;\n",
       "    }\n",
       "</style>\n",
       "<table border=\"1\" class=\"dataframe\">\n",
       "  <thead>\n",
       "    <tr style=\"text-align: right;\">\n",
       "      <th></th>\n",
       "      <th>count</th>\n",
       "      <th>percentage</th>\n",
       "    </tr>\n",
       "    <tr>\n",
       "      <th>churn_or_not</th>\n",
       "      <th></th>\n",
       "      <th></th>\n",
       "    </tr>\n",
       "  </thead>\n",
       "  <tbody>\n",
       "    <tr>\n",
       "      <td>0</td>\n",
       "      <td>185</td>\n",
       "      <td>0.948718</td>\n",
       "    </tr>\n",
       "    <tr>\n",
       "      <td>1</td>\n",
       "      <td>10</td>\n",
       "      <td>0.051282</td>\n",
       "    </tr>\n",
       "  </tbody>\n",
       "</table>\n",
       "</div>"
      ],
      "text/plain": [
       "              count  percentage\n",
       "churn_or_not                   \n",
       "0               185    0.948718\n",
       "1                10    0.051282"
      ]
     },
     "metadata": {},
     "output_type": "display_data"
    },
    {
     "data": {
      "text/html": [
       "<div>\n",
       "<style scoped>\n",
       "    .dataframe tbody tr th:only-of-type {\n",
       "        vertical-align: middle;\n",
       "    }\n",
       "\n",
       "    .dataframe tbody tr th {\n",
       "        vertical-align: top;\n",
       "    }\n",
       "\n",
       "    .dataframe thead th {\n",
       "        text-align: right;\n",
       "    }\n",
       "</style>\n",
       "<table border=\"1\" class=\"dataframe\">\n",
       "  <thead>\n",
       "    <tr style=\"text-align: right;\">\n",
       "      <th></th>\n",
       "      <th>count</th>\n",
       "      <th>percentage</th>\n",
       "    </tr>\n",
       "    <tr>\n",
       "      <th>churn_or_not</th>\n",
       "      <th></th>\n",
       "      <th></th>\n",
       "    </tr>\n",
       "  </thead>\n",
       "  <tbody>\n",
       "    <tr>\n",
       "      <td>0</td>\n",
       "      <td>21</td>\n",
       "      <td>0.954545</td>\n",
       "    </tr>\n",
       "    <tr>\n",
       "      <td>1</td>\n",
       "      <td>1</td>\n",
       "      <td>0.045455</td>\n",
       "    </tr>\n",
       "  </tbody>\n",
       "</table>\n",
       "</div>"
      ],
      "text/plain": [
       "              count  percentage\n",
       "churn_or_not                   \n",
       "0                21    0.954545\n",
       "1                 1    0.045455"
      ]
     },
     "execution_count": 11,
     "metadata": {},
     "output_type": "execute_result"
    }
   ],
   "source": [
    "display(train_test_split.check_class_balance(train))\n",
    "train_test_split.check_class_balance(test)"
   ]
  },
  {
   "cell_type": "markdown",
   "metadata": {},
   "source": [
    "###  Classifier and Performance"
   ]
  },
  {
   "cell_type": "markdown",
   "metadata": {},
   "source": [
    "#### Logistic Regression"
   ]
  },
  {
   "cell_type": "code",
   "execution_count": 12,
   "metadata": {},
   "outputs": [
    {
     "name": "stdout",
     "output_type": "stream",
     "text": [
      "Fitting 5 folds for each of 10 candidates, totalling 50 fits\n"
     ]
    }
   ],
   "source": [
    "log_reg  = classifier.Classifier()\n",
    "train_result_lr, test_result_lr =  log_reg()"
   ]
  },
  {
   "cell_type": "code",
   "execution_count": 13,
   "metadata": {
    "scrolled": true
   },
   "outputs": [
    {
     "name": "stdout",
     "output_type": "stream",
     "text": [
      "              precision    recall  f1-score   support\n",
      "\n",
      "           0       0.99      0.78      0.87       185\n",
      "           1       0.17      0.80      0.28        10\n",
      "\n",
      "    accuracy                           0.78       195\n",
      "   macro avg       0.58      0.79      0.57       195\n",
      "weighted avg       0.94      0.78      0.84       195\n",
      "\n"
     ]
    },
    {
     "data": {
      "image/png": "[encoded data removed]",
      "text/plain": [
       "<Figure size 432x288 with 2 Axes>"
      ]
     },
     "metadata": {
      "needs_background": "light"
     },
     "output_type": "display_data"
    },
    {
     "name": "stdout",
     "output_type": "stream",
     "text": [
      "AUC: 0.79\n"
     ]
    },
    {
     "data": {
      "image/png": "[encoded data removed]",
      "text/plain": [
       "<Figure size 432x288 with 1 Axes>"
      ]
     },
     "metadata": {
      "needs_background": "light"
     },
     "output_type": "display_data"
    }
   ],
   "source": [
    "classifier.show_performance(train_result_lr, conf_matrix = True, Report = True, Auc_roc = True)"
   ]
  },
  {
   "cell_type": "code",
   "execution_count": 14,
   "metadata": {
    "scrolled": true
   },
   "outputs": [
    {
     "name": "stdout",
     "output_type": "stream",
     "text": [
      "              precision    recall  f1-score   support\n",
      "\n",
      "           0       1.00      0.81      0.89        21\n",
      "           1       0.20      1.00      0.33         1\n",
      "\n",
      "    accuracy                           0.82        22\n",
      "   macro avg       0.60      0.90      0.61        22\n",
      "weighted avg       0.96      0.82      0.87        22\n",
      "\n"
     ]
    },
    {
     "data": {
      "image/png": "[encoded data removed]",
      "text/plain": [
       "<Figure size 432x288 with 2 Axes>"
      ]
     },
     "metadata": {
      "needs_background": "light"
     },
     "output_type": "display_data"
    },
    {
     "name": "stdout",
     "output_type": "stream",
     "text": [
      "AUC: 0.90\n"
     ]
    },
    {
     "data": {
      "image/png": "[encoded data removed]",
      "text/plain": [
       "<Figure size 432x288 with 1 Axes>"
      ]
     },
     "metadata": {
      "needs_background": "light"
     },
     "output_type": "display_data"
    }
   ],
   "source": [
    "classifier.show_performance(test_result_lr, conf_matrix = True, Report = True, Auc_roc = True)"
   ]
  },
  {
   "cell_type": "markdown",
   "metadata": {},
   "source": [
    "#### Random Forest"
   ]
  },
  {
   "cell_type": "code",
   "execution_count": 15,
   "metadata": {},
   "outputs": [
    {
     "name": "stdout",
     "output_type": "stream",
     "text": [
      "Fitting 5 folds for each of 10 candidates, totalling 50 fits\n"
     ]
    }
   ],
   "source": [
    "#hide\n",
    "model = RandomForestClassifier(class_weight=\"balanced\")\n",
    "parameter_ranges = {\"n_estimators\":np.arange(10,100,20), \"max_depth\":np.arange(2,10,3),\"ccp_alpha\":np.arange(0,1,0.20)}\n",
    "random_forest  = classifier.Classifier(model=model, parameter_ranges = parameter_ranges, scaling=False)\n",
    "train_result_rf, test_result_rf = random_forest()"
   ]
  },
  {
   "cell_type": "code",
   "execution_count": 16,
   "metadata": {
    "scrolled": true
   },
   "outputs": [
    {
     "name": "stdout",
     "output_type": "stream",
     "text": [
      "              precision    recall  f1-score   support\n",
      "\n",
      "           0       0.95      0.95      0.95        21\n",
      "           1       0.00      0.00      0.00         1\n",
      "\n",
      "    accuracy                           0.91        22\n",
      "   macro avg       0.48      0.48      0.48        22\n",
      "weighted avg       0.91      0.91      0.91        22\n",
      "\n"
     ]
    },
    {
     "data": {
      "image/png": "[encoded data removed]",
      "text/plain": [
       "<Figure size 432x288 with 2 Axes>"
      ]
     },
     "metadata": {
      "needs_background": "light"
     },
     "output_type": "display_data"
    },
    {
     "name": "stdout",
     "output_type": "stream",
     "text": [
      "AUC: 0.48\n"
     ]
    },
    {
     "data": {
      "image/png": "[encoded data removed]",
      "text/plain": [
       "<Figure size 432x288 with 1 Axes>"
      ]
     },
     "metadata": {
      "needs_background": "light"
     },
     "output_type": "display_data"
    }
   ],
   "source": [
    "classifier.show_performance(test_result_rf, conf_matrix = True, Report = True, Auc_roc = True)"
   ]
  },
  {
   "cell_type": "code",
   "execution_count": 17,
   "metadata": {
    "scrolled": true
   },
   "outputs": [
    {
     "name": "stdout",
     "output_type": "stream",
     "text": [
      "              precision    recall  f1-score   support\n",
      "\n",
      "           0       0.95      0.95      0.95        21\n",
      "           1       0.00      0.00      0.00         1\n",
      "\n",
      "    accuracy                           0.91        22\n",
      "   macro avg       0.48      0.48      0.48        22\n",
      "weighted avg       0.91      0.91      0.91        22\n",
      "\n"
     ]
    },
    {
     "data": {
      "image/png": "[encoded data removed]",
      "text/plain": [
       "<Figure size 432x288 with 2 Axes>"
      ]
     },
     "metadata": {
      "needs_background": "light"
     },
     "output_type": "display_data"
    },
    {
     "name": "stdout",
     "output_type": "stream",
     "text": [
      "AUC: 0.48\n"
     ]
    },
    {
     "data": {
      "image/png": "[encoded data removed]",
      "text/plain": [
       "<Figure size 432x288 with 1 Axes>"
      ]
     },
     "metadata": {
      "needs_background": "light"
     },
     "output_type": "display_data"
    }
   ],
   "source": [
    "classifier.show_performance(test_result_rf, conf_matrix = True, Report = True, Auc_roc = True)"
   ]
  }
 ],
 "metadata": {
  "kernelspec": {
   "display_name": "Python 3",
   "language": "python",
   "name": "python3"
  },
  "language_info": {
   "codemirror_mode": {
    "name": "ipython",
    "version": 3
   },
   "file_extension": ".py",
   "mimetype": "text/x-python",
   "name": "python",
   "nbconvert_exporter": "python",
   "pygments_lexer": "ipython3",
   "version": "3.7.4"
  }
 },
 "nbformat": 4,
 "nbformat_minor": 2
}
